{
 "cells": [
  {
   "cell_type": "code",
   "execution_count": 2,
   "metadata": {},
   "outputs": [],
   "source": [
    "import pandas as pd # package for high-performance, easy-to-use data structures and data analysis\n",
    "import numpy as np # fundamental package for scientific computing with Python\n",
    "import matplotlib\n",
    "import matplotlib.pyplot as plt # for plotting\n",
    "from catboost import CatBoostRegressor\n",
    "from sklearn.model_selection import train_test_split \n",
    "\n",
    "from sklearn.preprocessing import Imputer\n",
    "from sklearn import preprocessing\n"
   ]
  },
  {
   "cell_type": "code",
   "execution_count": 254,
   "metadata": {},
   "outputs": [],
   "source": [
    "data = pd.read_pickle('objects/dataForCatBoost')"
   ]
  },
  {
   "cell_type": "code",
   "execution_count": 255,
   "metadata": {},
   "outputs": [],
   "source": [
    "data.iloc[:,1:] = data.iloc[:,1:].replace(365243, np.NaN)\n",
    "data.iloc[:,1:] = data.iloc[:,1:].replace('XAP', np.NaN)\n",
    "data.iloc[:,1:] = data.iloc[:,1:].replace('XNA', np.NaN)\n",
    "#data.isnull().sum()"
   ]
  },
  {
   "cell_type": "code",
   "execution_count": 256,
   "metadata": {},
   "outputs": [],
   "source": [
    "#Function to capture cetegorical variables \n",
    "def _get_categorical_features(df):\n",
    "    feats=[col for col in list(df.columns) if df[col].dtype=='object']\n",
    "    return feats \n",
    "catFeatures=_get_categorical_features(data)\n",
    "#catFeatures "
   ]
  },
  {
   "cell_type": "code",
   "execution_count": 257,
   "metadata": {},
   "outputs": [],
   "source": [
    "#Function to capture numerical variables \n",
    "def _get_numerical_features(df):\n",
    "    feats=[col for col in list(df.columns) if df[col].dtype!='object']\n",
    "    return feats \n",
    "numFeatures=_get_numerical_features(data)\n",
    "numFeatures=numFeatures[1:]"
   ]
  },
  {
   "cell_type": "code",
   "execution_count": 258,
   "metadata": {},
   "outputs": [],
   "source": [
    "catInd=np.where(data.dtypes==object)[0]\n",
    "numInd= np.where(data.dtypes!=object)[0] \n",
    "numInd=numInd[1:]"
   ]
  },
  {
   "cell_type": "code",
   "execution_count": 259,
   "metadata": {},
   "outputs": [],
   "source": [
    "def _factorize_categoricals(df, cats):\n",
    "    for col in cats:\n",
    "        df[col], _ = pd.factorize(df[col])\n",
    "    return df \n",
    "data=_factorize_categoricals(data, catFeatures)"
   ]
  },
  {
   "cell_type": "code",
   "execution_count": 260,
   "metadata": {},
   "outputs": [],
   "source": [
    "data=data.iloc[:,:].values\n",
    "#data[:,(catInd)]"
   ]
  },
  {
   "cell_type": "code",
   "execution_count": 261,
   "metadata": {},
   "outputs": [],
   "source": [
    "numImputer = Imputer(missing_values ='NaN', strategy='median', axis=0)\n",
    "numImputer= numImputer.fit(data[:,(numInd)])\n",
    "data[:,(numInd)]=numImputer.transform(data[:,(numInd)])"
   ]
  },
  {
   "cell_type": "code",
   "execution_count": 262,
   "metadata": {},
   "outputs": [],
   "source": [
    "catImputer = Imputer(missing_values = 'NaN', strategy = 'most_frequent', axis =0)\n",
    "catImputer=catImputer.fit(data[:,(catInd)])\n",
    "data[:,(catInd)]=catImputer.transform(data[:,(catInd)])"
   ]
  },
  {
   "cell_type": "code",
   "execution_count": 263,
   "metadata": {},
   "outputs": [],
   "source": [
    "from sklearn import preprocessing\n",
    "min_max_scaler = preprocessing.MinMaxScaler()\n",
    "data[:,(numInd)] = min_max_scaler.fit_transform(data[:,(numInd)])"
   ]
  },
  {
   "cell_type": "code",
   "execution_count": 265,
   "metadata": {},
   "outputs": [],
   "source": [
    "data1 = pd.read_pickle('objects/dataForCatBoost')\n",
    "data=pd.DataFrame(data=data[0:,0:],    # values\n",
    "             #index=data[0:,0],    # 1st column as index\n",
    "             columns=data1.columns.values) "
   ]
  },
  {
   "cell_type": "code",
   "execution_count": 266,
   "metadata": {},
   "outputs": [],
   "source": [
    "def convert(df,catFeatures):\n",
    "    for col in catFeatures:\n",
    "        df[col]=df[col].astype(str)\n",
    "    return df\n",
    "data=convert(data,catFeatures)"
   ]
  },
  {
   "cell_type": "code",
   "execution_count": 267,
   "metadata": {},
   "outputs": [
    {
     "data": {
      "text/html": [
       "<div>\n",
       "<style scoped>\n",
       "    .dataframe tbody tr th:only-of-type {\n",
       "        vertical-align: middle;\n",
       "    }\n",
       "\n",
       "    .dataframe tbody tr th {\n",
       "        vertical-align: top;\n",
       "    }\n",
       "\n",
       "    .dataframe thead th {\n",
       "        text-align: right;\n",
       "    }\n",
       "</style>\n",
       "<table border=\"1\" class=\"dataframe\">\n",
       "  <thead>\n",
       "    <tr style=\"text-align: right;\">\n",
       "      <th></th>\n",
       "      <th>SK_ID_CURR</th>\n",
       "      <th>NAME_CONTRACT_TYPE</th>\n",
       "      <th>CODE_GENDER</th>\n",
       "      <th>FLAG_OWN_CAR</th>\n",
       "      <th>FLAG_OWN_REALTY</th>\n",
       "      <th>CNT_CHILDREN</th>\n",
       "      <th>AMT_INCOME_TOTAL</th>\n",
       "      <th>AMT_CREDIT</th>\n",
       "      <th>AMT_ANNUITY</th>\n",
       "      <th>AMT_GOODS_PRICE</th>\n",
       "      <th>...</th>\n",
       "      <th>CN_CNT_DRAWINGS_POS_CURRENT</th>\n",
       "      <th>CN_CNT_INSTALMENT_MATURE_CUM</th>\n",
       "      <th>CN_SK_DPD</th>\n",
       "      <th>CN_SK_DPD_DEF</th>\n",
       "      <th>CC_NAME_CONTRACT_STATUS</th>\n",
       "      <th>PCN_MONTHS_BALANCE</th>\n",
       "      <th>PCN_CNT_INSTALMENT</th>\n",
       "      <th>PCN_CNT_INSTALMENT_FUTURE</th>\n",
       "      <th>PCN_SK_DPD</th>\n",
       "      <th>PCN_SK_DPD_DEF</th>\n",
       "    </tr>\n",
       "  </thead>\n",
       "  <tbody>\n",
       "    <tr>\n",
       "      <th>0</th>\n",
       "      <td>100002</td>\n",
       "      <td>0.0</td>\n",
       "      <td>0.0</td>\n",
       "      <td>0.0</td>\n",
       "      <td>0.0</td>\n",
       "      <td>0.0</td>\n",
       "      <td>0.001512</td>\n",
       "      <td>0.090287</td>\n",
       "      <td>0.090032</td>\n",
       "      <td>0.077441</td>\n",
       "      <td>...</td>\n",
       "      <td>0.00044</td>\n",
       "      <td>0.05201</td>\n",
       "      <td>0.0</td>\n",
       "      <td>0.0</td>\n",
       "      <td>-1.0</td>\n",
       "      <td>0.905263</td>\n",
       "      <td>0.323944</td>\n",
       "      <td>0.250000</td>\n",
       "      <td>0.0</td>\n",
       "      <td>0.0</td>\n",
       "    </tr>\n",
       "    <tr>\n",
       "      <th>1</th>\n",
       "      <td>100003</td>\n",
       "      <td>0.0</td>\n",
       "      <td>1.0</td>\n",
       "      <td>0.0</td>\n",
       "      <td>1.0</td>\n",
       "      <td>0.0</td>\n",
       "      <td>0.002089</td>\n",
       "      <td>0.311736</td>\n",
       "      <td>0.132924</td>\n",
       "      <td>0.271605</td>\n",
       "      <td>...</td>\n",
       "      <td>0.00044</td>\n",
       "      <td>0.05201</td>\n",
       "      <td>0.0</td>\n",
       "      <td>0.0</td>\n",
       "      <td>-1.0</td>\n",
       "      <td>0.549624</td>\n",
       "      <td>0.128270</td>\n",
       "      <td>0.096429</td>\n",
       "      <td>0.0</td>\n",
       "      <td>0.0</td>\n",
       "    </tr>\n",
       "    <tr>\n",
       "      <th>2</th>\n",
       "      <td>100004</td>\n",
       "      <td>1.0</td>\n",
       "      <td>0.0</td>\n",
       "      <td>1.0</td>\n",
       "      <td>0.0</td>\n",
       "      <td>0.0</td>\n",
       "      <td>0.000358</td>\n",
       "      <td>0.022472</td>\n",
       "      <td>0.020025</td>\n",
       "      <td>0.023569</td>\n",
       "      <td>...</td>\n",
       "      <td>0.00044</td>\n",
       "      <td>0.05201</td>\n",
       "      <td>0.0</td>\n",
       "      <td>0.0</td>\n",
       "      <td>-1.0</td>\n",
       "      <td>0.742105</td>\n",
       "      <td>0.038732</td>\n",
       "      <td>0.037500</td>\n",
       "      <td>0.0</td>\n",
       "      <td>0.0</td>\n",
       "    </tr>\n",
       "    <tr>\n",
       "      <th>3</th>\n",
       "      <td>100006</td>\n",
       "      <td>0.0</td>\n",
       "      <td>1.0</td>\n",
       "      <td>0.0</td>\n",
       "      <td>0.0</td>\n",
       "      <td>0.0</td>\n",
       "      <td>0.000935</td>\n",
       "      <td>0.066837</td>\n",
       "      <td>0.109477</td>\n",
       "      <td>0.063973</td>\n",
       "      <td>...</td>\n",
       "      <td>0.00044</td>\n",
       "      <td>0.00000</td>\n",
       "      <td>0.0</td>\n",
       "      <td>0.0</td>\n",
       "      <td>0.0</td>\n",
       "      <td>0.909273</td>\n",
       "      <td>0.154930</td>\n",
       "      <td>0.144167</td>\n",
       "      <td>0.0</td>\n",
       "      <td>0.0</td>\n",
       "    </tr>\n",
       "    <tr>\n",
       "      <th>4</th>\n",
       "      <td>100007</td>\n",
       "      <td>0.0</td>\n",
       "      <td>0.0</td>\n",
       "      <td>0.0</td>\n",
       "      <td>0.0</td>\n",
       "      <td>0.0</td>\n",
       "      <td>0.000819</td>\n",
       "      <td>0.116854</td>\n",
       "      <td>0.078975</td>\n",
       "      <td>0.117845</td>\n",
       "      <td>...</td>\n",
       "      <td>0.00044</td>\n",
       "      <td>0.05201</td>\n",
       "      <td>0.0</td>\n",
       "      <td>0.0</td>\n",
       "      <td>-1.0</td>\n",
       "      <td>0.656459</td>\n",
       "      <td>0.201878</td>\n",
       "      <td>0.149495</td>\n",
       "      <td>0.0</td>\n",
       "      <td>0.0</td>\n",
       "    </tr>\n",
       "  </tbody>\n",
       "</table>\n",
       "<p>5 rows × 209 columns</p>\n",
       "</div>"
      ],
      "text/plain": [
       "   SK_ID_CURR NAME_CONTRACT_TYPE CODE_GENDER FLAG_OWN_CAR FLAG_OWN_REALTY  \\\n",
       "0      100002                0.0         0.0          0.0             0.0   \n",
       "1      100003                0.0         1.0          0.0             1.0   \n",
       "2      100004                1.0         0.0          1.0             0.0   \n",
       "3      100006                0.0         1.0          0.0             0.0   \n",
       "4      100007                0.0         0.0          0.0             0.0   \n",
       "\n",
       "   CNT_CHILDREN  AMT_INCOME_TOTAL  AMT_CREDIT  AMT_ANNUITY  AMT_GOODS_PRICE  \\\n",
       "0           0.0          0.001512    0.090287     0.090032         0.077441   \n",
       "1           0.0          0.002089    0.311736     0.132924         0.271605   \n",
       "2           0.0          0.000358    0.022472     0.020025         0.023569   \n",
       "3           0.0          0.000935    0.066837     0.109477         0.063973   \n",
       "4           0.0          0.000819    0.116854     0.078975         0.117845   \n",
       "\n",
       "        ...       CN_CNT_DRAWINGS_POS_CURRENT CN_CNT_INSTALMENT_MATURE_CUM  \\\n",
       "0       ...                           0.00044                      0.05201   \n",
       "1       ...                           0.00044                      0.05201   \n",
       "2       ...                           0.00044                      0.05201   \n",
       "3       ...                           0.00044                      0.00000   \n",
       "4       ...                           0.00044                      0.05201   \n",
       "\n",
       "  CN_SK_DPD CN_SK_DPD_DEF CC_NAME_CONTRACT_STATUS  PCN_MONTHS_BALANCE  \\\n",
       "0       0.0           0.0                    -1.0            0.905263   \n",
       "1       0.0           0.0                    -1.0            0.549624   \n",
       "2       0.0           0.0                    -1.0            0.742105   \n",
       "3       0.0           0.0                     0.0            0.909273   \n",
       "4       0.0           0.0                    -1.0            0.656459   \n",
       "\n",
       "   PCN_CNT_INSTALMENT  PCN_CNT_INSTALMENT_FUTURE  PCN_SK_DPD  PCN_SK_DPD_DEF  \n",
       "0            0.323944                   0.250000         0.0             0.0  \n",
       "1            0.128270                   0.096429         0.0             0.0  \n",
       "2            0.038732                   0.037500         0.0             0.0  \n",
       "3            0.154930                   0.144167         0.0             0.0  \n",
       "4            0.201878                   0.149495         0.0             0.0  \n",
       "\n",
       "[5 rows x 209 columns]"
      ]
     },
     "execution_count": 267,
     "metadata": {},
     "output_type": "execute_result"
    }
   ],
   "source": [
    "data['SK_ID_CURR']=data['SK_ID_CURR'].astype(int)\n",
    "data.head()"
   ]
  },
  {
   "cell_type": "code",
   "execution_count": 269,
   "metadata": {},
   "outputs": [],
   "source": [
    "data.to_pickle('objects/dataMissingRemoved')"
   ]
  },
  {
   "cell_type": "code",
   "execution_count": null,
   "metadata": {},
   "outputs": [],
   "source": []
  }
 ],
 "metadata": {
  "kernelspec": {
   "display_name": "Python 3",
   "language": "python",
   "name": "python3"
  },
  "language_info": {
   "codemirror_mode": {
    "name": "ipython",
    "version": 3
   },
   "file_extension": ".py",
   "mimetype": "text/x-python",
   "name": "python",
   "nbconvert_exporter": "python",
   "pygments_lexer": "ipython3",
   "version": "3.6.4"
  }
 },
 "nbformat": 4,
 "nbformat_minor": 2
}
